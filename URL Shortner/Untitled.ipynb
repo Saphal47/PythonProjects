{
 "cells": [
  {
   "cell_type": "markdown",
   "metadata": {},
   "source": [
    "## URL Shortener\n",
    "\n",
    "Replicate services like Bitly or Tinyurl."
   ]
  },
  {
   "cell_type": "markdown",
   "metadata": {},
   "source": [
    "Mini url shortener \n",
    "\n",
    "Web service which shortens the url by redirecting from the server to our system by mapping the long URL with short URL\n",
    "* create a backend to simulate a url shortener\n"
   ]
  },
  {
   "cell_type": "code",
   "execution_count": 2,
   "metadata": {},
   "outputs": [],
   "source": [
    "import random \n",
    "import string "
   ]
  },
  {
   "cell_type": "code",
   "execution_count": 3,
   "metadata": {},
   "outputs": [],
   "source": [
    "url = \"https://www.codingminutes.com\""
   ]
  },
  {
   "cell_type": "markdown",
   "metadata": {},
   "source": [
    "* Creating a database in form of Dictionary\n",
    "* Key: ShortURL  ,  Value: LongURL"
   ]
  },
  {
   "cell_type": "code",
   "execution_count": 51,
   "metadata": {},
   "outputs": [],
   "source": [
    "DB = {}"
   ]
  },
  {
   "cell_type": "markdown",
   "metadata": {},
   "source": [
    "### Version 1"
   ]
  },
  {
   "cell_type": "code",
   "execution_count": 52,
   "metadata": {},
   "outputs": [],
   "source": [
    "def getShortURL(longURL):\n",
    "    \"\"\"\n",
    "    given a long url,returns a short url\n",
    "    \"\"\"\n",
    "    length = random.randint(4,6)\n",
    "    #generating random characters\n",
    "    shortURL = ''.join([random.choice(chars) for i in range(length)])\n",
    "          \n",
    "    if shortURL is DB:#if shortURL is present in database\n",
    "        return getShortURL(longURL)\n",
    "    else: #map it with longURL\n",
    "        DB[shortURL] = longURL\n",
    "    \n",
    "    #sal is my domain\n",
    "    result = \"sal.in/\" + shortURL\n",
    "    return result"
   ]
  },
  {
   "cell_type": "code",
   "execution_count": 53,
   "metadata": {},
   "outputs": [],
   "source": [
    "#the number of char in the shorturl in range 4 to 6\n"
   ]
  },
  {
   "cell_type": "code",
   "execution_count": 54,
   "metadata": {},
   "outputs": [
    {
     "data": {
      "text/plain": [
       "'abcdefghijklmnopqrstuvwxyz'"
      ]
     },
     "execution_count": 54,
     "metadata": {},
     "output_type": "execute_result"
    }
   ],
   "source": [
    "chars = string.ascii_lowercase #gives all the char\n",
    "chars"
   ]
  },
  {
   "cell_type": "code",
   "execution_count": 55,
   "metadata": {},
   "outputs": [
    {
     "data": {
      "text/plain": [
       "'beqb'"
      ]
     },
     "execution_count": 55,
     "metadata": {},
     "output_type": "execute_result"
    }
   ],
   "source": [
    "''.join([random.choice(chars) for i in range(4)])\n",
    "#want them in string using ''.join this will be short url"
   ]
  },
  {
   "cell_type": "markdown",
   "metadata": {},
   "source": [
    "## TESTING OUR FUNCTION"
   ]
  },
  {
   "cell_type": "code",
   "execution_count": 68,
   "metadata": {},
   "outputs": [],
   "source": [
    "url = \"https://www.codingminutes.com\""
   ]
  },
  {
   "cell_type": "code",
   "execution_count": 69,
   "metadata": {},
   "outputs": [
    {
     "data": {
      "text/plain": [
       "'sal.in/qycd'"
      ]
     },
     "execution_count": 69,
     "metadata": {},
     "output_type": "execute_result"
    }
   ],
   "source": [
    "getShortURL(url)"
   ]
  },
  {
   "cell_type": "code",
   "execution_count": 70,
   "metadata": {},
   "outputs": [
    {
     "name": "stdout",
     "output_type": "stream",
     "text": [
      "{'qycd': 'https://www.codingminutes.com'}\n"
     ]
    }
   ],
   "source": [
    "#check database\n",
    "print(DB)"
   ]
  },
  {
   "cell_type": "code",
   "execution_count": 71,
   "metadata": {},
   "outputs": [],
   "source": [
    "url=\"https://www.coursera.org/MachineLearning.html\""
   ]
  },
  {
   "cell_type": "code",
   "execution_count": 72,
   "metadata": {},
   "outputs": [
    {
     "data": {
      "text/plain": [
       "'sal.in/odcj'"
      ]
     },
     "execution_count": 72,
     "metadata": {},
     "output_type": "execute_result"
    }
   ],
   "source": [
    "getShortURL(url)"
   ]
  },
  {
   "cell_type": "code",
   "execution_count": 73,
   "metadata": {},
   "outputs": [
    {
     "name": "stdout",
     "output_type": "stream",
     "text": [
      "{'qycd': 'https://www.codingminutes.com', 'odcj': 'https://www.coursera.org/MachineLearning.html'}\n"
     ]
    }
   ],
   "source": [
    "print(DB)"
   ]
  },
  {
   "cell_type": "markdown",
   "metadata": {},
   "source": [
    "## Get Long URL\n",
    "\n",
    "Finding the ShortURL corresponding to the Long URL"
   ]
  },
  {
   "cell_type": "code",
   "execution_count": 74,
   "metadata": {},
   "outputs": [],
   "source": [
    "def getLongURL(shortURL):\n",
    "    \"\"\"\n",
    "    given a short URL,returns a long URL.\n",
    "    \"\"\"\n",
    "    #https://www.google.com/adobe -> adobe(key)\n",
    "    key = shortURL.split('/')[-1]\n",
    "    #splitting our long URL to get the last part of url\n",
    "    \n",
    "    if key in DB:\n",
    "        return DB[key]\n",
    "    else:\n",
    "        return \"Short URL doesn't exists.\""
   ]
  },
  {
   "cell_type": "code",
   "execution_count": 75,
   "metadata": {},
   "outputs": [
    {
     "data": {
      "text/plain": [
       "'https://www.codingminutes.com'"
      ]
     },
     "execution_count": 75,
     "metadata": {},
     "output_type": "execute_result"
    }
   ],
   "source": [
    "getLongURL('sal.in/qycd')"
   ]
  },
  {
   "cell_type": "code",
   "execution_count": 76,
   "metadata": {},
   "outputs": [
    {
     "data": {
      "text/plain": [
       "\"Short URL doesn't exists.\""
      ]
     },
     "execution_count": 76,
     "metadata": {},
     "output_type": "execute_result"
    }
   ],
   "source": [
    "getLongURL('sal.in/abcde')"
   ]
  },
  {
   "cell_type": "code",
   "execution_count": null,
   "metadata": {},
   "outputs": [],
   "source": []
  },
  {
   "cell_type": "markdown",
   "metadata": {},
   "source": [
    "### Version 2\n",
    "* Updating our database"
   ]
  },
  {
   "cell_type": "code",
   "execution_count": 85,
   "metadata": {},
   "outputs": [],
   "source": [
    "def getShortURL(longURL):\n",
    "    \"\"\"\n",
    "    given a long url,returns a short url\n",
    "    \"\"\"\n",
    "    length = random.randint(4,6)\n",
    "    #generating random characters or numbers\n",
    "    chars=string.ascii_lowercase + string.digits\n",
    "    shortURL = ''.join([random.choice(chars) for i in range(length)])\n",
    "          \n",
    "    if shortURL is DB:#if shortURL is present in database\n",
    "        return getShortURL(longURL)\n",
    "    else: #map it with longURL\n",
    "        DB[shortURL] = longURL\n",
    "    \n",
    "    #sal is my domain\n",
    "    result = \"sal.in/\" + shortURL\n",
    "    return result"
   ]
  },
  {
   "cell_type": "code",
   "execution_count": 83,
   "metadata": {},
   "outputs": [
    {
     "data": {
      "text/plain": [
       "{'qycd': 'https://www.codingminutes.com',\n",
       " 'odcj': 'https://www.coursera.org/MachineLearning.html'}"
      ]
     },
     "execution_count": 83,
     "metadata": {},
     "output_type": "execute_result"
    }
   ],
   "source": [
    "DB"
   ]
  },
  {
   "cell_type": "code",
   "execution_count": 84,
   "metadata": {},
   "outputs": [],
   "source": [
    "chars = string.ascii_lowercase + string.digits"
   ]
  },
  {
   "cell_type": "code",
   "execution_count": 81,
   "metadata": {},
   "outputs": [
    {
     "data": {
      "text/plain": [
       "'abcdefghijklmnopqrstuvwxyz0123456789'"
      ]
     },
     "execution_count": 81,
     "metadata": {},
     "output_type": "execute_result"
    }
   ],
   "source": [
    "chars"
   ]
  },
  {
   "cell_type": "code",
   "execution_count": 87,
   "metadata": {},
   "outputs": [
    {
     "data": {
      "text/plain": [
       "'sal.in/1kggv'"
      ]
     },
     "execution_count": 87,
     "metadata": {},
     "output_type": "execute_result"
    }
   ],
   "source": [
    "getShortURL(\"https://codingminutes.com\")"
   ]
  },
  {
   "cell_type": "code",
   "execution_count": 88,
   "metadata": {},
   "outputs": [
    {
     "data": {
      "text/plain": [
       "{'qycd': 'https://www.codingminutes.com',\n",
       " 'odcj': 'https://www.coursera.org/MachineLearning.html',\n",
       " 'orao': 'https://codingminutes.com',\n",
       " '1kggv': 'https://codingminutes.com'}"
      ]
     },
     "execution_count": 88,
     "metadata": {},
     "output_type": "execute_result"
    }
   ],
   "source": [
    "DB"
   ]
  },
  {
   "cell_type": "code",
   "execution_count": 89,
   "metadata": {},
   "outputs": [
    {
     "data": {
      "text/plain": [
       "'https://codingminutes.com'"
      ]
     },
     "execution_count": 89,
     "metadata": {},
     "output_type": "execute_result"
    }
   ],
   "source": [
    "getLongURL(\"sal.in/1kggv\")"
   ]
  },
  {
   "cell_type": "markdown",
   "metadata": {},
   "source": [
    "## Customizing ShortURL\n",
    "\n",
    "* Personalized shortURL for the long URLs"
   ]
  },
  {
   "cell_type": "markdown",
   "metadata": {},
   "source": [
    "## Version 3"
   ]
  },
  {
   "cell_type": "code",
   "execution_count": 90,
   "metadata": {},
   "outputs": [],
   "source": [
    "def getShortURL(longURL , myShortURL = None):\n",
    "    \"\"\"\n",
    "    given a long url,returns a short url\n",
    "    \"\"\"\n",
    "    if myShortURL:\n",
    "        if myShortURL in DB:\n",
    "            return \"Short URL already exists\"\n",
    "        else:\n",
    "            DB[myShortURL] = longURL\n",
    "            res = \"sal.in/\" + myShortURL\n",
    "            return res\n",
    "    \n",
    "    length = random.randint(4,6)\n",
    "    \n",
    "    #generating random characters or numbers\n",
    "    chars=string.ascii_lowercase + string.digits\n",
    "    shortURL = ''.join([random.choice(chars) for i in range(length)])\n",
    "          \n",
    "    if shortURL is DB:#if shortURL is present in database\n",
    "        return getShortURL(longURL)\n",
    "    else: #map it with longURL\n",
    "        DB[shortURL] = longURL\n",
    "    \n",
    "    #sal is my domain\n",
    "    result = \"sal.in/\" + shortURL\n",
    "    return result"
   ]
  },
  {
   "cell_type": "code",
   "execution_count": 96,
   "metadata": {},
   "outputs": [
    {
     "data": {
      "text/plain": [
       "'sal.in/fb'"
      ]
     },
     "execution_count": 96,
     "metadata": {},
     "output_type": "execute_result"
    }
   ],
   "source": [
    "getShortURL(\"https://facebook.com\" , \"fb\")"
   ]
  },
  {
   "cell_type": "code",
   "execution_count": 97,
   "metadata": {},
   "outputs": [
    {
     "data": {
      "text/plain": [
       "{'qycd': 'https://www.codingminutes.com',\n",
       " 'odcj': 'https://www.coursera.org/MachineLearning.html',\n",
       " 'orao': 'https://codingminutes.com',\n",
       " '1kggv': 'https://codingminutes.com',\n",
       " 'home': 'https://codingminutes.com',\n",
       " 'fb': 'https://facebook.com'}"
      ]
     },
     "execution_count": 97,
     "metadata": {},
     "output_type": "execute_result"
    }
   ],
   "source": [
    "DB"
   ]
  },
  {
   "cell_type": "code",
   "execution_count": 98,
   "metadata": {},
   "outputs": [
    {
     "data": {
      "text/plain": [
       "'sal.in/insta'"
      ]
     },
     "execution_count": 98,
     "metadata": {},
     "output_type": "execute_result"
    }
   ],
   "source": [
    "getShortURL(\"https://instagram.com\" , \"insta\")"
   ]
  },
  {
   "cell_type": "code",
   "execution_count": 99,
   "metadata": {},
   "outputs": [
    {
     "data": {
      "text/plain": [
       "{'qycd': 'https://www.codingminutes.com',\n",
       " 'odcj': 'https://www.coursera.org/MachineLearning.html',\n",
       " 'orao': 'https://codingminutes.com',\n",
       " '1kggv': 'https://codingminutes.com',\n",
       " 'home': 'https://codingminutes.com',\n",
       " 'fb': 'https://facebook.com',\n",
       " 'insta': 'https://instagram.com'}"
      ]
     },
     "execution_count": 99,
     "metadata": {},
     "output_type": "execute_result"
    }
   ],
   "source": [
    "DB"
   ]
  },
  {
   "cell_type": "code",
   "execution_count": 100,
   "metadata": {},
   "outputs": [
    {
     "data": {
      "text/plain": [
       "'sal.in/mlcoursera'"
      ]
     },
     "execution_count": 100,
     "metadata": {},
     "output_type": "execute_result"
    }
   ],
   "source": [
    "getShortURL(\"https://www.coursera.org/MachineLearning.html\",\"mlcoursera\")"
   ]
  },
  {
   "cell_type": "code",
   "execution_count": 101,
   "metadata": {},
   "outputs": [
    {
     "data": {
      "text/plain": [
       "{'qycd': 'https://www.codingminutes.com',\n",
       " 'odcj': 'https://www.coursera.org/MachineLearning.html',\n",
       " 'orao': 'https://codingminutes.com',\n",
       " '1kggv': 'https://codingminutes.com',\n",
       " 'home': 'https://codingminutes.com',\n",
       " 'fb': 'https://facebook.com',\n",
       " 'insta': 'https://instagram.com',\n",
       " 'mlcoursera': 'https://www.coursera.org/MachineLearning.html'}"
      ]
     },
     "execution_count": 101,
     "metadata": {},
     "output_type": "execute_result"
    }
   ],
   "source": [
    "DB"
   ]
  },
  {
   "cell_type": "markdown",
   "metadata": {},
   "source": [
    "## Updating LongURL"
   ]
  },
  {
   "cell_type": "code",
   "execution_count": 102,
   "metadata": {},
   "outputs": [],
   "source": [
    "def updateLongURL(shortURL, newLongURL):\n",
    "    if shortURL in DB:#then we can update longURL\n",
    "        shortURL = shortURL.split(\"/\")[-1]\n",
    "        DB[shortURL] = newLongURL\n",
    "        res = \"sal.in/\" + shortURL\n",
    "        return res\n",
    "    \n",
    "    else:\n",
    "        return \"Short URL doesn't exists.\"       "
   ]
  },
  {
   "cell_type": "code",
   "execution_count": 104,
   "metadata": {},
   "outputs": [
    {
     "data": {
      "text/plain": [
       "'sal.in/insta'"
      ]
     },
     "execution_count": 104,
     "metadata": {},
     "output_type": "execute_result"
    }
   ],
   "source": [
    "updateLongURL(\"insta\",\"https://www.google.com\")"
   ]
  },
  {
   "cell_type": "code",
   "execution_count": 105,
   "metadata": {},
   "outputs": [
    {
     "data": {
      "text/plain": [
       "'https://www.google.com'"
      ]
     },
     "execution_count": 105,
     "metadata": {},
     "output_type": "execute_result"
    }
   ],
   "source": [
    "getLongURL('sal.in/insta')"
   ]
  },
  {
   "cell_type": "code",
   "execution_count": 106,
   "metadata": {},
   "outputs": [
    {
     "data": {
      "text/plain": [
       "{'qycd': 'https://www.codingminutes.com',\n",
       " 'odcj': 'https://www.coursera.org/MachineLearning.html',\n",
       " 'orao': 'https://codingminutes.com',\n",
       " '1kggv': 'https://codingminutes.com',\n",
       " 'home': 'https://codingminutes.com',\n",
       " 'fb': 'https://facebook.com',\n",
       " 'insta': 'https://www.google.com',\n",
       " 'mlcoursera': 'https://www.coursera.org/MachineLearning.html'}"
      ]
     },
     "execution_count": 106,
     "metadata": {},
     "output_type": "execute_result"
    }
   ],
   "source": [
    "DB"
   ]
  },
  {
   "cell_type": "code",
   "execution_count": 107,
   "metadata": {},
   "outputs": [
    {
     "data": {
      "text/plain": [
       "'sal.in/insta'"
      ]
     },
     "execution_count": 107,
     "metadata": {},
     "output_type": "execute_result"
    }
   ],
   "source": [
    "updateLongURL(\"insta\" , \"https://www.instagram.com\")"
   ]
  },
  {
   "cell_type": "code",
   "execution_count": 108,
   "metadata": {},
   "outputs": [
    {
     "data": {
      "text/plain": [
       "{'qycd': 'https://www.codingminutes.com',\n",
       " 'odcj': 'https://www.coursera.org/MachineLearning.html',\n",
       " 'orao': 'https://codingminutes.com',\n",
       " '1kggv': 'https://codingminutes.com',\n",
       " 'home': 'https://codingminutes.com',\n",
       " 'fb': 'https://facebook.com',\n",
       " 'insta': 'https://www.instagram.com',\n",
       " 'mlcoursera': 'https://www.coursera.org/MachineLearning.html'}"
      ]
     },
     "execution_count": 108,
     "metadata": {},
     "output_type": "execute_result"
    }
   ],
   "source": [
    "DB"
   ]
  },
  {
   "cell_type": "code",
   "execution_count": null,
   "metadata": {},
   "outputs": [],
   "source": []
  }
 ],
 "metadata": {
  "kernelspec": {
   "display_name": "Python 3",
   "language": "python",
   "name": "python3"
  },
  "language_info": {
   "codemirror_mode": {
    "name": "ipython",
    "version": 3
   },
   "file_extension": ".py",
   "mimetype": "text/x-python",
   "name": "python",
   "nbconvert_exporter": "python",
   "pygments_lexer": "ipython3",
   "version": "3.8.5"
  }
 },
 "nbformat": 4,
 "nbformat_minor": 4
}
