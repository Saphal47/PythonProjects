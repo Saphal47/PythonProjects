{
 "cells": [
  {
   "cell_type": "markdown",
   "metadata": {},
   "source": [
    "## Text Generation"
   ]
  },
  {
   "cell_type": "markdown",
   "metadata": {},
   "source": [
    "### Markov Chain"
   ]
  },
  {
   "cell_type": "markdown",
   "metadata": {},
   "source": [
    "* Probabistic Model for text or Natural Language Generation\n",
    "* Simple and Effective way of generating new text\n",
    "    * Text\n",
    "    * Lyrics\n",
    "    * Story/Novel\n",
    "    * Code\n",
    "* Given the past data ,it can generate new data"
   ]
  },
  {
   "cell_type": "markdown",
   "metadata": {},
   "source": [
    "### 2 State Probability\n",
    "* Probability of generating sequence\n",
    "\n",
    "### Character Based Model\n",
    "* Given some characters generate next character\n"
   ]
  },
  {
   "cell_type": "code",
   "execution_count": 2,
   "metadata": {},
   "outputs": [],
   "source": [
    "# X is the sequence of the window (K) length and Y is predicted character or K+1 th character"
   ]
  },
  {
   "cell_type": "code",
   "execution_count": 3,
   "metadata": {},
   "outputs": [],
   "source": [
    "# Code for transition table (having maximum frequency)"
   ]
  },
  {
   "cell_type": "code",
   "execution_count": 4,
   "metadata": {},
   "outputs": [],
   "source": [
    "def generateTable(data,k= 4):\n",
    "    \n",
    "    T = {}\n",
    "    for i in range(len(data)-k):\n",
    "        X =data[i:i+k]\n",
    "        y =data[i+k]\n",
    "        \n",
    "        if T.get(X) is None:# if char in window is vistied first\n",
    "            T[X]= {}\n",
    "            T[X][y] = 1\n",
    "        else:\n",
    "            if T[X].get(y) is None: # if output char is new\n",
    "                T[X][y] = 1\n",
    "            else:\n",
    "                T[X][y] += 1\n",
    "     \n",
    "    return T\n",
    "            "
   ]
  },
  {
   "cell_type": "code",
   "execution_count": 10,
   "metadata": {},
   "outputs": [],
   "source": [
    "T1 =generateTable('hello hello helli helly')"
   ]
  },
  {
   "cell_type": "code",
   "execution_count": 12,
   "metadata": {},
   "outputs": [
    {
     "data": {
      "text/plain": [
       "{'hell': {'o': 2, 'i': 1, 'y': 1},\n",
       " 'ello': {' ': 2},\n",
       " 'llo ': {'h': 2},\n",
       " 'lo h': {'e': 2},\n",
       " 'o he': {'l': 2},\n",
       " ' hel': {'l': 3},\n",
       " 'elli': {' ': 1},\n",
       " 'lli ': {'h': 1},\n",
       " 'li h': {'e': 1},\n",
       " 'i he': {'l': 1}}"
      ]
     },
     "execution_count": 12,
     "metadata": {},
     "output_type": "execute_result"
    }
   ],
   "source": [
    "T1"
   ]
  },
  {
   "cell_type": "code",
   "execution_count": 13,
   "metadata": {},
   "outputs": [
    {
     "data": {
      "text/plain": [
       "{'the': {' ': 3, 'y': 1, 'n': 1, 'm': 1},\n",
       " 'he ': {'t': 3},\n",
       " 'e t': {'h': 3},\n",
       " ' th': {'e': 6},\n",
       " 'hey': {' ': 1},\n",
       " 'ey ': {'t': 1},\n",
       " 'y t': {'h': 1},\n",
       " 'hen': {' ': 1},\n",
       " 'en ': {'t': 1},\n",
       " 'n t': {'h': 1},\n",
       " 'hem': {' ': 1},\n",
       " 'em ': {'t': 1},\n",
       " 'm t': {'h': 1}}"
      ]
     },
     "execution_count": 13,
     "metadata": {},
     "output_type": "execute_result"
    }
   ],
   "source": [
    "T2 =generateTable(\"the they then them the the the\",k=3)\n",
    "T2"
   ]
  },
  {
   "cell_type": "code",
   "execution_count": null,
   "metadata": {},
   "outputs": [],
   "source": []
  },
  {
   "cell_type": "markdown",
   "metadata": {},
   "source": [
    "### Conversion of Frequencies to  Probability"
   ]
  },
  {
   "cell_type": "code",
   "execution_count": 19,
   "metadata": {},
   "outputs": [],
   "source": [
    "def convertFreqtoProb(T):\n",
    "    for kx in T.keys():#iteating over all keys\n",
    "         s = sum(T[kx].values())\n",
    "         for k in T[kx].keys():\n",
    "                T[kx][k] = T[kx][k]/s\n",
    "                \n",
    "    return T                "
   ]
  },
  {
   "cell_type": "code",
   "execution_count": 16,
   "metadata": {},
   "outputs": [
    {
     "data": {
      "text/plain": [
       "4"
      ]
     },
     "execution_count": 16,
     "metadata": {},
     "output_type": "execute_result"
    }
   ],
   "source": [
    "sum(T1['hell'].values())"
   ]
  },
  {
   "cell_type": "code",
   "execution_count": 20,
   "metadata": {},
   "outputs": [
    {
     "data": {
      "text/plain": [
       "{'hell': {'o': 0.5, 'i': 0.25, 'y': 0.25},\n",
       " 'ello': {' ': 1.0},\n",
       " 'llo ': {'h': 1.0},\n",
       " 'lo h': {'e': 1.0},\n",
       " 'o he': {'l': 1.0},\n",
       " ' hel': {'l': 1.0},\n",
       " 'elli': {' ': 1.0},\n",
       " 'lli ': {'h': 1.0},\n",
       " 'li h': {'e': 1.0},\n",
       " 'i he': {'l': 1.0}}"
      ]
     },
     "execution_count": 20,
     "metadata": {},
     "output_type": "execute_result"
    }
   ],
   "source": [
    "T = convertFreqtoProb(T1)\n",
    "T"
   ]
  },
  {
   "cell_type": "code",
   "execution_count": null,
   "metadata": {},
   "outputs": [],
   "source": []
  },
  {
   "cell_type": "markdown",
   "metadata": {},
   "source": [
    "## Read our data"
   ]
  },
  {
   "cell_type": "code",
   "execution_count": 98,
   "metadata": {},
   "outputs": [],
   "source": [
    "file_path = 'speech.txt'\n",
    "with open(file_path) as file:\n",
    "    file.read().lower()"
   ]
  },
  {
   "cell_type": "code",
   "execution_count": 100,
   "metadata": {},
   "outputs": [
    {
     "name": "stdout",
     "output_type": "stream",
     "text": [
      " essay on the introduction to niti aayog in india\n",
      "niti aayog or national institution for transforming india aayog is basically a policy think tank of government of india and state governments that replaces 65-year old planning commission. union government of india had announced formation of niti aayog on 1st january, 2015.\n",
      "\n",
      "its primary job would be to undertake long term policy and design frameworks and take necessary initiatives for attaining faster development and finally to monitor these activities sincerely.\n",
      "\n",
      "\n",
      "the niti aayog has set it objectives to develop mechanisms to formulate credible plans to the village level and aggregate these progressively at higher levels of government. this aayog will ensure special attention to the sections of society that may be at risk of not benefitting adequately from economic progress.the niti aayog, will create a knowledge, innovation and entrepreneurial support system through a collaborative community of national and international experts, practitioners and partners. the aayog will offer a platform for resolution of inter-sectoral and inter-departmental issues in order to accelerate the implementation of the development agenda.\n",
      "\n",
      "thus the niti aayog will try to frame a proper development policy for the country and will also seek to put an end to slow and tardy implementation of policy, by fostering better inter-ministry coordination and improve centre-state coordination. it will also evolve a shared vision of national development priorities, and foster co-operative federalism, recognizing the motto that strong states make a strong nations.\n",
      "\n",
      "niti aayog will have regional councils to focus on developmental activities on specific areas and is patterned on the national reforms development commission of china.\n",
      "\n",
      "while the planning commission had the power to allocate funds to states for attaining regional development, the niti aayog will not have such powers. rather, the task of allocating funds to states now being vested with the finance ministryâ€™s department of expenditure.\n",
      "\n",
      "the niti aayog has set it objectives to develop mechanisms to formulate credible plans to the village level and aggregate these progressively at higher levels of government. this aayog will ensure special attention to the sections of society that may be at risk of not benefitting adequately from economic progress.the niti aayog will also seek to put an end to slow and tardy implementation of policy by fostering better inter-ministry co-ordination and better centre-state co-ordination. it will help evolve a shared vision of national development priorities, and foster co-operative federalism, in order to focus on the view that strong states make a strong nation.\n",
      "\n",
      "\n",
      "\n",
      "\n"
     ]
    }
   ],
   "source": [
    "text = load_text('speech.txt')\n",
    "print(text)"
   ]
  },
  {
   "cell_type": "markdown",
   "metadata": {},
   "source": [
    "## Train Our Markov Chains"
   ]
  },
  {
   "cell_type": "code",
   "execution_count": 102,
   "metadata": {},
   "outputs": [],
   "source": [
    "def trainMarkovChain(text,k=4):\n",
    "    T=generateTable(text,k)\n",
    "    T=convertFreqtoProb(T)\n",
    "    \n",
    "    return T"
   ]
  },
  {
   "cell_type": "code",
   "execution_count": 103,
   "metadata": {},
   "outputs": [],
   "source": [
    "model = trainMarkovChain(text)"
   ]
  },
  {
   "cell_type": "code",
   "execution_count": 63,
   "metadata": {},
   "outputs": [
    {
     "data": {
      "text/plain": [
       "{'1. e': {'s': 1.0},\n",
       " '. es': {'s': 1.0},\n",
       " ' ess': {'a': 1.0},\n",
       " 'essa': {'y': 0.5, 'r': 0.5},\n",
       " 'ssay': {' ': 1.0},\n",
       " 'say ': {'o': 1.0},\n",
       " 'ay o': {'n': 1.0},\n",
       " 'y on': {' ': 1.0},\n",
       " ' on ': {'t': 0.5, '1': 0.5},\n",
       " 'on t': {'h': 0.5, 'o': 0.5},\n",
       " 'n th': {'e': 1.0},\n",
       " ' the': {' ': 0.5, 's': 0.5},\n",
       " 'the ': {'i': 1.0},\n",
       " 'he i': {'n': 1.0},\n",
       " 'e in': {'t': 1.0},\n",
       " ' int': {'r': 1.0},\n",
       " 'intr': {'o': 1.0},\n",
       " 'ntro': {'d': 1.0},\n",
       " 'trod': {'u': 1.0},\n",
       " 'rodu': {'c': 1.0},\n",
       " 'oduc': {'t': 1.0},\n",
       " 'duct': {'i': 1.0},\n",
       " 'ucti': {'o': 1.0},\n",
       " 'ctio': {'n': 1.0},\n",
       " 'tion': {' ': 0.75, 'a': 0.25},\n",
       " 'ion ': {'t': 0.25, 'f': 0.25, 'g': 0.25, 'o': 0.25},\n",
       " 'n to': {' ': 1.0},\n",
       " ' to ': {'n': 0.3333333333333333,\n",
       "  'u': 0.3333333333333333,\n",
       "  'm': 0.3333333333333333},\n",
       " 'to n': {'i': 1.0},\n",
       " 'o ni': {'t': 1.0},\n",
       " ' nit': {'i': 1.0},\n",
       " 'niti': {' ': 0.75, 'a': 0.25},\n",
       " 'iti ': {'a': 1.0},\n",
       " 'ti a': {'a': 1.0},\n",
       " 'i aa': {'y': 1.0},\n",
       " ' aay': {'o': 1.0},\n",
       " 'aayo': {'g': 1.0},\n",
       " 'ayog': {' ': 1.0},\n",
       " 'yog ': {'i': 0.5, 'o': 0.5},\n",
       " 'og i': {'n': 0.5, 's': 0.5},\n",
       " 'g in': {' ': 0.5, 'd': 0.5},\n",
       " ' in ': {'i': 1.0},\n",
       " 'in i': {'n': 1.0},\n",
       " 'n in': {'d': 1.0},\n",
       " ' ind': {'i': 1.0},\n",
       " 'indi': {'a': 1.0},\n",
       " 'ndia': {'\\n': 0.25, ' ': 0.75},\n",
       " 'dia\\n': {'n': 1.0},\n",
       " 'ia\\nn': {'i': 1.0},\n",
       " 'a\\nni': {'t': 1.0},\n",
       " '\\nnit': {'i': 1.0},\n",
       " 'og o': {'r': 0.5, 'n': 0.5},\n",
       " 'g or': {' ': 1.0},\n",
       " ' or ': {'n': 1.0},\n",
       " 'or n': {'a': 1.0},\n",
       " 'r na': {'t': 1.0},\n",
       " ' nat': {'i': 1.0},\n",
       " 'nati': {'o': 1.0},\n",
       " 'atio': {'n': 1.0},\n",
       " 'iona': {'l': 1.0},\n",
       " 'onal': {' ': 1.0},\n",
       " 'nal ': {'i': 1.0},\n",
       " 'al i': {'n': 1.0},\n",
       " 'l in': {'s': 1.0},\n",
       " ' ins': {'t': 1.0},\n",
       " 'inst': {'i': 1.0},\n",
       " 'nsti': {'t': 1.0},\n",
       " 'stit': {'u': 1.0},\n",
       " 'titu': {'t': 1.0},\n",
       " 'itut': {'i': 1.0},\n",
       " 'tuti': {'o': 1.0},\n",
       " 'utio': {'n': 1.0},\n",
       " 'on f': {'o': 1.0},\n",
       " 'n fo': {'r': 1.0},\n",
       " ' for': {' ': 0.6666666666666666, 'm': 0.3333333333333333},\n",
       " 'for ': {'t': 0.5, 'a': 0.5},\n",
       " 'or t': {'r': 0.5, 'h': 0.5},\n",
       " 'r tr': {'a': 1.0},\n",
       " ' tra': {'n': 1.0},\n",
       " 'tran': {'s': 1.0},\n",
       " 'rans': {'f': 1.0},\n",
       " 'ansf': {'o': 1.0},\n",
       " 'nsfo': {'r': 1.0},\n",
       " 'sfor': {'m': 1.0},\n",
       " 'form': {'i': 0.5, 'a': 0.5},\n",
       " 'ormi': {'n': 1.0},\n",
       " 'rmin': {'g': 1.0},\n",
       " 'ming': {' ': 1.0},\n",
       " 'ing ': {'i': 0.3333333333333333,\n",
       "  'c': 0.3333333333333333,\n",
       "  'f': 0.3333333333333333},\n",
       " 'ng i': {'n': 1.0},\n",
       " 'dia ': {'a': 0.6666666666666666, 'h': 0.3333333333333333},\n",
       " 'ia a': {'a': 0.5, 'n': 0.5},\n",
       " 'a aa': {'y': 1.0},\n",
       " 'g is': {' ': 1.0},\n",
       " ' is ': {'b': 1.0},\n",
       " 'is b': {'a': 1.0},\n",
       " 's ba': {'s': 1.0},\n",
       " ' bas': {'i': 1.0},\n",
       " 'basi': {'c': 1.0},\n",
       " 'asic': {'a': 1.0},\n",
       " 'sica': {'l': 1.0},\n",
       " 'ical': {'l': 1.0},\n",
       " 'call': {'y': 1.0},\n",
       " 'ally': {' ': 1.0},\n",
       " 'lly ': {'a': 0.5, 't': 0.5},\n",
       " 'ly a': {' ': 1.0},\n",
       " 'y a ': {'p': 1.0},\n",
       " ' a p': {'o': 1.0},\n",
       " 'a po': {'l': 1.0},\n",
       " ' pol': {'i': 1.0},\n",
       " 'poli': {'c': 1.0},\n",
       " 'olic': {'y': 1.0},\n",
       " 'licy': {' ': 1.0},\n",
       " 'icy ': {'t': 0.5, 'a': 0.5},\n",
       " 'cy t': {'h': 1.0},\n",
       " 'y th': {'i': 1.0},\n",
       " ' thi': {'n': 1.0},\n",
       " 'thin': {'k': 1.0},\n",
       " 'hink': {' ': 1.0},\n",
       " 'ink ': {'t': 1.0},\n",
       " 'nk t': {'a': 1.0},\n",
       " 'k ta': {'n': 1.0},\n",
       " ' tan': {'k': 1.0},\n",
       " 'tank': {' ': 1.0},\n",
       " 'ank ': {'o': 1.0},\n",
       " 'nk o': {'f': 1.0},\n",
       " 'k of': {' ': 1.0},\n",
       " ' of ': {'g': 0.25, 'i': 0.5, 'n': 0.25},\n",
       " 'of g': {'o': 1.0},\n",
       " 'f go': {'v': 1.0},\n",
       " ' gov': {'e': 1.0},\n",
       " 'gove': {'r': 1.0},\n",
       " 'over': {'n': 1.0},\n",
       " 'vern': {'m': 1.0},\n",
       " 'ernm': {'e': 1.0},\n",
       " 'rnme': {'n': 1.0},\n",
       " 'nmen': {'t': 1.0},\n",
       " 'ment': {' ': 0.75, 's': 0.25},\n",
       " 'ent ': {'o': 0.6666666666666666, 'a': 0.3333333333333333},\n",
       " 'nt o': {'f': 1.0},\n",
       " 't of': {' ': 1.0},\n",
       " 'of i': {'n': 1.0},\n",
       " 'f in': {'d': 1.0},\n",
       " 'a an': {'d': 1.0},\n",
       " ' and': {' ': 1.0},\n",
       " 'and ': {'s': 0.25, 'd': 0.25, 't': 0.25, 'f': 0.25},\n",
       " 'nd s': {'t': 1.0},\n",
       " 'd st': {'a': 1.0},\n",
       " ' sta': {'t': 1.0},\n",
       " 'stat': {'e': 1.0},\n",
       " 'tate': {' ': 1.0},\n",
       " 'ate ': {'g': 1.0},\n",
       " 'te g': {'o': 1.0},\n",
       " 'e go': {'v': 1.0},\n",
       " 'ents': {' ': 1.0},\n",
       " 'nts ': {'t': 1.0},\n",
       " 'ts t': {'h': 1.0},\n",
       " 's th': {'a': 1.0},\n",
       " ' tha': {'t': 1.0},\n",
       " 'that': {' ': 1.0},\n",
       " 'hat ': {'r': 1.0},\n",
       " 'at r': {'e': 1.0},\n",
       " 't re': {'p': 1.0},\n",
       " ' rep': {'l': 1.0},\n",
       " 'repl': {'a': 1.0},\n",
       " 'epla': {'c': 1.0},\n",
       " 'plac': {'e': 1.0},\n",
       " 'lace': {'s': 1.0},\n",
       " 'aces': {' ': 1.0},\n",
       " 'ces ': {'6': 1.0},\n",
       " 'es 6': {'5': 1.0},\n",
       " 's 65': {'-': 1.0},\n",
       " ' 65-': {'y': 1.0},\n",
       " '65-y': {'e': 1.0},\n",
       " '5-ye': {'a': 1.0},\n",
       " '-yea': {'r': 1.0},\n",
       " 'year': {' ': 1.0},\n",
       " 'ear ': {'o': 1.0},\n",
       " 'ar o': {'l': 1.0},\n",
       " 'r ol': {'d': 1.0},\n",
       " ' old': {' ': 1.0},\n",
       " 'old ': {'p': 1.0},\n",
       " 'ld p': {'l': 1.0},\n",
       " 'd pl': {'a': 1.0},\n",
       " ' pla': {'n': 1.0},\n",
       " 'plan': {'n': 1.0},\n",
       " 'lann': {'i': 1.0},\n",
       " 'anni': {'n': 1.0},\n",
       " 'nnin': {'g': 1.0},\n",
       " 'ning': {' ': 1.0},\n",
       " 'ng c': {'o': 1.0},\n",
       " 'g co': {'m': 1.0},\n",
       " ' com': {'m': 1.0},\n",
       " 'comm': {'i': 1.0},\n",
       " 'ommi': {'s': 1.0},\n",
       " 'mmis': {'s': 1.0},\n",
       " 'miss': {'i': 1.0},\n",
       " 'issi': {'o': 1.0},\n",
       " 'ssio': {'n': 1.0},\n",
       " 'sion': {'.': 1.0},\n",
       " 'ion.': {' ': 1.0},\n",
       " 'on. ': {'u': 1.0},\n",
       " 'n. u': {'n': 1.0},\n",
       " '. un': {'i': 1.0},\n",
       " ' uni': {'o': 1.0},\n",
       " 'unio': {'n': 1.0},\n",
       " 'nion': {' ': 1.0},\n",
       " 'on g': {'o': 1.0},\n",
       " 'n go': {'v': 1.0},\n",
       " 'ia h': {'a': 1.0},\n",
       " 'a ha': {'d': 1.0},\n",
       " ' had': {' ': 1.0},\n",
       " 'had ': {'a': 1.0},\n",
       " 'ad a': {'n': 1.0},\n",
       " 'd an': {'n': 1.0},\n",
       " ' ann': {'o': 1.0},\n",
       " 'anno': {'u': 1.0},\n",
       " 'nnou': {'n': 1.0},\n",
       " 'noun': {'c': 1.0},\n",
       " 'ounc': {'e': 1.0},\n",
       " 'unce': {'d': 1.0},\n",
       " 'nced': {' ': 1.0},\n",
       " 'ced ': {'f': 1.0},\n",
       " 'ed f': {'o': 1.0},\n",
       " 'd fo': {'r': 1.0},\n",
       " 'orma': {'t': 1.0},\n",
       " 'rmat': {'i': 1.0},\n",
       " 'mati': {'o': 1.0},\n",
       " 'on o': {'f': 1.0},\n",
       " 'n of': {' ': 1.0},\n",
       " 'of n': {'i': 1.0},\n",
       " 'f ni': {'t': 1.0},\n",
       " 'g on': {' ': 1.0},\n",
       " 'on 1': {'s': 1.0},\n",
       " 'n 1s': {'t': 1.0},\n",
       " ' 1st': {' ': 1.0},\n",
       " '1st ': {'j': 1.0},\n",
       " 'st j': {'a': 1.0},\n",
       " 't ja': {'n': 1.0},\n",
       " ' jan': {'u': 1.0},\n",
       " 'janu': {'a': 1.0},\n",
       " 'anua': {'r': 1.0},\n",
       " 'nuar': {'y': 1.0},\n",
       " 'uary': {',': 1.0},\n",
       " 'ary,': {' ': 1.0},\n",
       " 'ry, ': {'2': 1.0},\n",
       " 'y, 2': {'0': 1.0},\n",
       " ', 20': {'1': 1.0},\n",
       " ' 201': {'5': 1.0},\n",
       " '2015': {'.': 1.0},\n",
       " '015.': {'\\n': 1.0},\n",
       " '15.\\n': {'\\n': 1.0},\n",
       " '5.\\n\\n': {'i': 1.0},\n",
       " '.\\n\\ni': {'t': 1.0},\n",
       " '\\n\\nit': {'s': 1.0},\n",
       " '\\nits': {' ': 1.0},\n",
       " 'its ': {'p': 1.0},\n",
       " 'ts p': {'r': 1.0},\n",
       " 's pr': {'i': 1.0},\n",
       " ' pri': {'m': 1.0},\n",
       " 'prim': {'a': 1.0},\n",
       " 'rima': {'r': 1.0},\n",
       " 'imar': {'y': 1.0},\n",
       " 'mary': {' ': 1.0},\n",
       " 'ary ': {'j': 0.5, 'i': 0.5},\n",
       " 'ry j': {'o': 1.0},\n",
       " 'y jo': {'b': 1.0},\n",
       " ' job': {' ': 1.0},\n",
       " 'job ': {'w': 1.0},\n",
       " 'ob w': {'o': 1.0},\n",
       " 'b wo': {'u': 1.0},\n",
       " ' wou': {'l': 1.0},\n",
       " 'woul': {'d': 1.0},\n",
       " 'ould': {' ': 1.0},\n",
       " 'uld ': {'b': 1.0},\n",
       " 'ld b': {'e': 1.0},\n",
       " 'd be': {' ': 1.0},\n",
       " ' be ': {'t': 1.0},\n",
       " 'be t': {'o': 1.0},\n",
       " 'e to': {' ': 1.0},\n",
       " 'to u': {'n': 1.0},\n",
       " 'o un': {'d': 1.0},\n",
       " ' und': {'e': 1.0},\n",
       " 'unde': {'r': 1.0},\n",
       " 'nder': {'t': 1.0},\n",
       " 'dert': {'a': 1.0},\n",
       " 'erta': {'k': 1.0},\n",
       " 'rtak': {'e': 1.0},\n",
       " 'take': {' ': 1.0},\n",
       " 'ake ': {'l': 0.5, 'n': 0.5},\n",
       " 'ke l': {'o': 1.0},\n",
       " 'e lo': {'n': 1.0},\n",
       " ' lon': {'g': 1.0},\n",
       " 'long': {' ': 1.0},\n",
       " 'ong ': {'t': 1.0},\n",
       " 'ng t': {'e': 1.0},\n",
       " 'g te': {'r': 1.0},\n",
       " ' ter': {'m': 1.0},\n",
       " 'term': {' ': 1.0},\n",
       " 'erm ': {'p': 1.0},\n",
       " 'rm p': {'o': 1.0},\n",
       " 'm po': {'l': 1.0},\n",
       " 'cy a': {'n': 1.0},\n",
       " 'y an': {'d': 1.0},\n",
       " 'nd d': {'e': 1.0},\n",
       " 'd de': {'s': 1.0},\n",
       " ' des': {'i': 1.0},\n",
       " 'desi': {'g': 1.0},\n",
       " 'esig': {'n': 1.0},\n",
       " 'sign': {' ': 1.0},\n",
       " 'ign ': {'f': 1.0},\n",
       " 'gn f': {'r': 1.0},\n",
       " 'n fr': {'a': 1.0},\n",
       " ' fra': {'m': 1.0},\n",
       " 'fram': {'e': 1.0},\n",
       " 'rame': {'w': 1.0},\n",
       " 'amew': {'o': 1.0},\n",
       " 'mewo': {'r': 1.0},\n",
       " 'ewor': {'k': 1.0},\n",
       " 'work': {'s': 1.0},\n",
       " 'orks': {' ': 1.0},\n",
       " 'rks ': {'a': 1.0},\n",
       " 'ks a': {'n': 1.0},\n",
       " 's an': {'d': 1.0},\n",
       " 'nd t': {'a': 1.0},\n",
       " 'd ta': {'k': 1.0},\n",
       " ' tak': {'e': 1.0},\n",
       " 'ke n': {'e': 1.0},\n",
       " 'e ne': {'c': 1.0},\n",
       " ' nec': {'e': 1.0},\n",
       " 'nece': {'s': 1.0},\n",
       " 'eces': {'s': 1.0},\n",
       " 'cess': {'a': 1.0},\n",
       " 'ssar': {'y': 1.0},\n",
       " 'sary': {' ': 1.0},\n",
       " 'ry i': {'n': 1.0},\n",
       " 'y in': {'i': 1.0},\n",
       " ' ini': {'t': 1.0},\n",
       " 'init': {'i': 1.0},\n",
       " 'itia': {'t': 1.0},\n",
       " 'tiat': {'i': 1.0},\n",
       " 'iati': {'v': 1.0},\n",
       " 'ativ': {'e': 1.0},\n",
       " 'tive': {'s': 1.0},\n",
       " 'ives': {' ': 1.0},\n",
       " 'ves ': {'f': 1.0},\n",
       " 'es f': {'o': 1.0},\n",
       " 's fo': {'r': 1.0},\n",
       " 'or a': {'t': 1.0},\n",
       " 'r at': {'t': 1.0},\n",
       " ' att': {'a': 1.0},\n",
       " 'atta': {'i': 1.0},\n",
       " 'ttai': {'n': 1.0},\n",
       " 'tain': {'i': 1.0},\n",
       " 'aini': {'n': 1.0},\n",
       " 'inin': {'g': 1.0},\n",
       " 'ng f': {'a': 1.0},\n",
       " 'g fa': {'s': 1.0},\n",
       " ' fas': {'t': 1.0},\n",
       " 'fast': {'e': 1.0},\n",
       " 'aste': {'r': 1.0},\n",
       " 'ster': {' ': 1.0},\n",
       " 'ter ': {'d': 1.0},\n",
       " 'er d': {'e': 1.0},\n",
       " 'r de': {'v': 1.0},\n",
       " ' dev': {'e': 1.0},\n",
       " 'deve': {'l': 1.0},\n",
       " 'evel': {'o': 1.0},\n",
       " 'velo': {'p': 1.0},\n",
       " 'elop': {'m': 1.0},\n",
       " 'lopm': {'e': 1.0},\n",
       " 'opme': {'n': 1.0},\n",
       " 'pmen': {'t': 1.0},\n",
       " 'nt a': {'n': 1.0},\n",
       " 't an': {'d': 1.0},\n",
       " 'nd f': {'i': 1.0},\n",
       " 'd fi': {'n': 1.0},\n",
       " ' fin': {'a': 1.0},\n",
       " 'fina': {'l': 1.0},\n",
       " 'inal': {'l': 1.0},\n",
       " 'nall': {'y': 1.0},\n",
       " 'ly t': {'o': 1.0},\n",
       " 'y to': {' ': 1.0},\n",
       " 'to m': {'o': 1.0},\n",
       " 'o mo': {'n': 1.0},\n",
       " ' mon': {'i': 1.0},\n",
       " 'moni': {'t': 1.0},\n",
       " 'onit': {'o': 1.0},\n",
       " 'nito': {'r': 1.0},\n",
       " 'itor': {' ': 1.0},\n",
       " 'tor ': {'t': 1.0},\n",
       " 'r th': {'e': 1.0},\n",
       " 'thes': {'e': 1.0},\n",
       " 'hese': {' ': 1.0},\n",
       " 'ese ': {'a': 1.0},\n",
       " 'se a': {'c': 1.0},\n",
       " 'e ac': {'t': 1.0},\n",
       " ' act': {'i': 1.0},\n",
       " 'acti': {'v': 1.0},\n",
       " 'ctiv': {'i': 1.0},\n",
       " 'tivi': {'t': 1.0},\n",
       " 'ivit': {'i': 1.0},\n",
       " 'viti': {'e': 1.0},\n",
       " 'itie': {'s': 1.0},\n",
       " 'ties': {' ': 1.0},\n",
       " 'ies ': {'s': 1.0},\n",
       " 'es s': {'i': 1.0},\n",
       " 's si': {'n': 1.0},\n",
       " ' sin': {'c': 1.0},\n",
       " 'sinc': {'e': 1.0},\n",
       " 'ince': {'r': 1.0},\n",
       " 'ncer': {'e': 1.0},\n",
       " 'cere': {'l': 1.0},\n",
       " 'erel': {'y': 1.0},\n",
       " 'rely': {'.': 1.0},\n",
       " 'ely.': {'\\n': 1.0},\n",
       " 'ly.\\n': {'\\n': 1.0},\n",
       " 'y.\\n\\n': {'\\n': 1.0},\n",
       " '.\\n\\n\\n': {'\\n': 1.0},\n",
       " '\\n\\n\\n\\n': {'\\n': 1.0}}"
      ]
     },
     "execution_count": 63,
     "metadata": {},
     "output_type": "execute_result"
    }
   ],
   "source": [
    "model"
   ]
  },
  {
   "cell_type": "code",
   "execution_count": null,
   "metadata": {},
   "outputs": [],
   "source": []
  },
  {
   "cell_type": "markdown",
   "metadata": {},
   "source": [
    "# Generate text"
   ]
  },
  {
   "cell_type": "code",
   "execution_count": 104,
   "metadata": {},
   "outputs": [],
   "source": [
    "import random"
   ]
  },
  {
   "cell_type": "code",
   "execution_count": 105,
   "metadata": {},
   "outputs": [],
   "source": [
    "fruits = [\"apple\" , \"mango\" , \"banana\"]\n",
    "probabs = [0.7,0.2,0.1]"
   ]
  },
  {
   "cell_type": "code",
   "execution_count": 128,
   "metadata": {},
   "outputs": [
    {
     "name": "stdout",
     "output_type": "stream",
     "text": [
      "['apple']\n",
      "['apple']\n",
      "['apple']\n",
      "['mango']\n",
      "['apple']\n",
      "['apple']\n",
      "['apple']\n",
      "['apple']\n",
      "['apple']\n",
      "['apple']\n"
     ]
    }
   ],
   "source": [
    "for i in range(10):\n",
    "    print(random.choices(fruits , weights=probabs))"
   ]
  },
  {
   "cell_type": "markdown",
   "metadata": {},
   "source": [
    "## Code to generate the next character"
   ]
  },
  {
   "cell_type": "code",
   "execution_count": 167,
   "metadata": {},
   "outputs": [],
   "source": [
    "def sample_next(context,T,k):\n",
    "    context=context[-k:] #getting last 4 characters\n",
    "    if T.get(context) is None:# not in the input\n",
    "        return \" \"\n",
    "    possible_chars = list(T.get(context).keys())\n",
    "    possible_probabs = list(T.get(context).values())\n",
    "    \n",
    "    return random.choices(possible_chars ,weights= possible_probabs)[0]"
   ]
  },
  {
   "cell_type": "code",
   "execution_count": 188,
   "metadata": {},
   "outputs": [
    {
     "data": {
      "text/plain": [
       "'n'"
      ]
     },
     "execution_count": 188,
     "metadata": {},
     "output_type": "execute_result"
    }
   ],
   "source": [
    "sample_next(\"government an end take \",model,4)"
   ]
  },
  {
   "cell_type": "code",
   "execution_count": null,
   "metadata": {},
   "outputs": [],
   "source": []
  },
  {
   "cell_type": "code",
   "execution_count": 179,
   "metadata": {},
   "outputs": [],
   "source": [
    "context=\"My country India\""
   ]
  },
  {
   "cell_type": "code",
   "execution_count": 134,
   "metadata": {},
   "outputs": [
    {
     "data": {
      "text/plain": [
       "'ntry'"
      ]
     },
     "execution_count": 134,
     "metadata": {},
     "output_type": "execute_result"
    }
   ],
   "source": [
    "context[-4:]"
   ]
  },
  {
   "cell_type": "code",
   "execution_count": null,
   "metadata": {},
   "outputs": [],
   "source": []
  },
  {
   "cell_type": "code",
   "execution_count": 153,
   "metadata": {},
   "outputs": [
    {
     "data": {
      "text/plain": [
       "{' ': 0.5,\n",
       " 's': 0.05555555555555555,\n",
       " '.': 0.1111111111111111,\n",
       " 'a': 0.2777777777777778,\n",
       " ',': 0.05555555555555555}"
      ]
     },
     "execution_count": 153,
     "metadata": {},
     "output_type": "execute_result"
    }
   ],
   "source": [
    "model.get('ment')"
   ]
  },
  {
   "cell_type": "code",
   "execution_count": 147,
   "metadata": {},
   "outputs": [],
   "source": [
    "#checking if it exists in Transition table\n",
    "T.get('ment')"
   ]
  },
  {
   "cell_type": "code",
   "execution_count": 154,
   "metadata": {},
   "outputs": [
    {
     "data": {
      "text/plain": [
       "[' ', 's', '.', 'a', ',']"
      ]
     },
     "execution_count": 154,
     "metadata": {},
     "output_type": "execute_result"
    }
   ],
   "source": [
    "list(model.get('ment').keys())  #get all possible chars by writing"
   ]
  },
  {
   "cell_type": "code",
   "execution_count": 152,
   "metadata": {},
   "outputs": [
    {
     "data": {
      "text/plain": [
       "[0.5,\n",
       " 0.05555555555555555,\n",
       " 0.1111111111111111,\n",
       " 0.2777777777777778,\n",
       " 0.05555555555555555]"
      ]
     },
     "execution_count": 152,
     "metadata": {},
     "output_type": "execute_result"
    }
   ],
   "source": [
    "list(model.get('ment').values()) .keys()"
   ]
  },
  {
   "cell_type": "code",
   "execution_count": null,
   "metadata": {},
   "outputs": [],
   "source": []
  },
  {
   "cell_type": "code",
   "execution_count": null,
   "metadata": {},
   "outputs": [],
   "source": []
  },
  {
   "cell_type": "markdown",
   "metadata": {},
   "source": [
    "## Generating Paragraphs"
   ]
  },
  {
   "cell_type": "code",
   "execution_count": null,
   "metadata": {},
   "outputs": [],
   "source": [
    "# append and call the generate word fxn again & again"
   ]
  },
  {
   "cell_type": "code",
   "execution_count": 189,
   "metadata": {},
   "outputs": [],
   "source": [
    "def generateText(starting_sentence ,T, k=4 , maxLen =100): #the ch\n",
    "    \n",
    "    sentence = starting_sentence\n",
    "    context = starting_sentence[-k:]\n",
    "    \n",
    "    for i in range(maxLen):\n",
    "        next_pred = sample_next(context,T,k)\n",
    "        sentence += next_pred\n",
    "        context = sentence[-k:]\n",
    "        \n",
    "    return sentence        "
   ]
  },
  {
   "cell_type": "code",
   "execution_count": 196,
   "metadata": {},
   "outputs": [],
   "source": [
    "predictions = generateText(\"thus\" , model, k=4 ,maxLen=1000)                          "
   ]
  },
  {
   "cell_type": "code",
   "execution_count": 197,
   "metadata": {},
   "outputs": [
    {
     "name": "stdout",
     "output_type": "stream",
     "text": [
      "thus the niti aayog will credible planning adequately a progress.the introduction of society that may be at risk of expenditure.\n",
      "\n",
      "thus that may be at higher levelopment commission of governments that strong states make a knowledge, innovation of policy fostering betternational experts, practives to focus on special and take long nation.\n",
      "\n",
      "\n",
      "the powers. rather, the niti aayog will have regional develop mechanisms to undertake a knowledge, innovational experts, practives for attention had announced foster centre-state a policy this aayog will have such power to focus on develop mechanisms to for attaining better co-ordination and interned on 1st january, 2015.\n",
      "\n",
      "its priorities, and to monitor the sectoral attaining fastering india\n",
      "niti aayog has set it will offer a plans to undertake a shared vision of policy foster co-operate coordination of society that risk of society that may be at higher levelopment of niti aayog will also evolve a shared vision governmentation.\n",
      "\n",
      "\n",
      "the village levelop mecha\n"
     ]
    }
   ],
   "source": [
    "print(predictions)"
   ]
  },
  {
   "cell_type": "markdown",
   "metadata": {},
   "source": [
    "##### It helps in word completion or auto suggestion"
   ]
  },
  {
   "cell_type": "code",
   "execution_count": null,
   "metadata": {},
   "outputs": [],
   "source": []
  }
 ],
 "metadata": {
  "kernelspec": {
   "display_name": "Python 3",
   "language": "python",
   "name": "python3"
  },
  "language_info": {
   "codemirror_mode": {
    "name": "ipython",
    "version": 3
   },
   "file_extension": ".py",
   "mimetype": "text/x-python",
   "name": "python",
   "nbconvert_exporter": "python",
   "pygments_lexer": "ipython3",
   "version": "3.8.5"
  }
 },
 "nbformat": 4,
 "nbformat_minor": 4
}
